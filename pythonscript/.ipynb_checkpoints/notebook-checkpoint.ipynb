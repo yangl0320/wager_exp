{
 "cells": [
  {
   "cell_type": "code",
   "execution_count": 31,
   "metadata": {},
   "outputs": [
    {
     "data": {
      "text/plain": [
       "'\\n\\nforecast = np.array([0,0,0])\\nwager = np.ones_like(forecast)\\nwager = np.array([1.0,1,2])\\nforecast = np.vstack((forecast, 1-forecast)).transpose()\\nprint(forecast)\\n\\npay, bet = wg.net_payoff_PPM(forecast, wager)\\nprint(bet)\\nprint(pay)\\n\\nbeta, x = wg.proxy_parimutuel_eq(forecast, wager)\\nprint(beta)\\nprint(x)\\n\\nnp.set_printoptions(precision=3, suppress=True)\\n\\nx = np.linspace(0.01, 0.99, 990)\\n\\ny = 3*np.log(0.5*(1-x)*2)*2+1*np.log(0.5*x*2)\\n\\nplt.figure(1)\\nplt.plot(x,y)\\nplt.show()\\nprint(x[np.argmax(y)])\\n'"
      ]
     },
     "execution_count": 31,
     "metadata": {},
     "output_type": "execute_result"
    }
   ],
   "source": [
    "import numpy as np\n",
    "import matplotlib\n",
    "import matplotlib.pyplot as plt\n",
    "import wager as wg\n",
    "matplotlib.rcParams.update({'font.size': 14})\n",
    "np.set_printoptions(precision=5, suppress=True)\n",
    "\n",
    "f_samples = np.linspace(0.0, 1.0, 100)\n",
    "\n",
    "pay_curve = np.zeros((2,len(f_samples)))\n",
    "\n",
    "for i, f in enumerate(f_samples):\n",
    "    forecast = np.array([f, 0.6, 0.4])\n",
    "    wager = np.array([10, 10, 10])\n",
    "    netpay = wg.no_arbitage_wagering(forecast, wager)\n",
    "    pay = netpay + np.vstack((wager, wager)).transpose()\n",
    "    pay_curve[:, i] = pay[0, :]\n",
    "\n",
    "plt.figure(1)\n",
    "plt.plot(f_samples, pay_curve[0], label='if \"yes\" happens')\n",
    "plt.plot(f_samples, pay_curve[1], label='if \"no\" happens')\n",
    "plt.grid(linestyle='--')\n",
    "plt.xlabel('Probability you forecast')\n",
    "plt.ylabel('Points you finally have')\n",
    "plt.legend()\n",
    "plt.tight_layout()\n",
    "plt.savefig('../public/images/nawm_fig_a.jpg', dpi=100)\n",
    "plt.gcf().clear()\n",
    "    \n",
    "w_samples = np.linspace(0, 100, 101)\n",
    "pay_curve = np.zeros((2,len(w_samples)))\n",
    "for i, w in enumerate(w_samples):\n",
    "    forecast = np.array([0.8, 0.6, 0.4])\n",
    "    wager = np.array([w, 10, 10])\n",
    "    netpay = wg.no_arbitage_wagering(forecast, wager)\n",
    "    pay = netpay# + np.vstack((wager, wager)).transpose()\n",
    "    pay_curve[:, i] = pay[0, :]\n",
    "    \n",
    "plt.figure(2)\n",
    "plt.plot(w_samples, pay_curve[0], label='if \"yes\" happens')\n",
    "plt.plot(w_samples, pay_curve[1], label='if \"no\" happens')\n",
    "plt.grid(linestyle='--')\n",
    "plt.xlabel('Points you put')\n",
    "plt.ylabel('Points you finally have')\n",
    "plt.legend()\n",
    "plt.tight_layout()\n",
    "plt.savefig('../public/images/nawm_fig_b.jpg', dpi=100)\n",
    "plt.gcf().clear()\n",
    "'''\n",
    "\n",
    "forecast = np.array([0,0,0])\n",
    "wager = np.ones_like(forecast)\n",
    "wager = np.array([1.0,1,2])\n",
    "forecast = np.vstack((forecast, 1-forecast)).transpose()\n",
    "print(forecast)\n",
    "\n",
    "pay, bet = wg.net_payoff_PPM(forecast, wager)\n",
    "print(bet)\n",
    "print(pay)\n",
    "\n",
    "beta, x = wg.proxy_parimutuel_eq(forecast, wager)\n",
    "print(beta)\n",
    "print(x)\n",
    "\n",
    "np.set_printoptions(precision=3, suppress=True)\n",
    "\n",
    "x = np.linspace(0.01, 0.99, 990)\n",
    "\n",
    "y = 3*np.log(0.5*(1-x)*2)*2+1*np.log(0.5*x*2)\n",
    "\n",
    "plt.figure(1)\n",
    "plt.plot(x,y)\n",
    "plt.show()\n",
    "print(x[np.argmax(y)])\n",
    "'''"
   ]
  },
  {
   "cell_type": "code",
   "execution_count": null,
   "metadata": {
    "collapsed": true
   },
   "outputs": [],
   "source": []
  }
 ],
 "metadata": {
  "kernelspec": {
   "display_name": "Python 3",
   "language": "python",
   "name": "python3"
  },
  "language_info": {
   "codemirror_mode": {
    "name": "ipython",
    "version": 3
   },
   "file_extension": ".py",
   "mimetype": "text/x-python",
   "name": "python",
   "nbconvert_exporter": "python",
   "pygments_lexer": "ipython3",
   "version": "3.6.1"
  }
 },
 "nbformat": 4,
 "nbformat_minor": 2
}
